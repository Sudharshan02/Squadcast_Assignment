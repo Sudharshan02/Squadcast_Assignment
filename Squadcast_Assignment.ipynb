{
 "cells": [
  {
   "cell_type": "markdown",
   "id": "ac4ebd05",
   "metadata": {},
   "source": [
    "## Data Analysis and Manipulation"
   ]
  },
  {
   "cell_type": "markdown",
   "id": "59384c1e",
   "metadata": {},
   "source": [
    "### Part - 1"
   ]
  },
  {
   "cell_type": "markdown",
   "id": "948e1067",
   "metadata": {},
   "source": [
    "#### Setting the Postgres Sql database in Render and Creating the tables with Movies and Ratings names and also loading the data into it with the provided CSV files. "
   ]
  },
  {
   "cell_type": "code",
   "execution_count": 53,
   "id": "fc41837a",
   "metadata": {},
   "outputs": [],
   "source": [
    "# Loading the important liberaries required for establishing the connection and loading the data"
   ]
  },
  {
   "cell_type": "code",
   "execution_count": 143,
   "id": "72c82eee",
   "metadata": {},
   "outputs": [],
   "source": [
    "import pandas as pd\n",
    "import psycopg2\n",
    "from psycopg2 import sql\n",
    "from sqlalchemy import create_engine"
   ]
  },
  {
   "cell_type": "code",
   "execution_count": 113,
   "id": "7d8d1b1f",
   "metadata": {},
   "outputs": [
    {
     "data": {
      "text/plain": [
       "1000"
      ]
     },
     "execution_count": 113,
     "metadata": {},
     "output_type": "execute_result"
    }
   ],
   "source": [
    "connection_params = {\n",
    "    'host': 'dpg-cm0t24ocmk4c739e1fi0-a.oregon-postgres.render.com',\n",
    "    'port': 5432,\n",
    "    'user': 'squadcast_assignment_database_user',\n",
    "    'password': 'ofMkgeev2bS24Zd3FONzt9lhbIqfTzjl',\n",
    "    'database': 'squadcast_assignment_database',\n",
    "}\n",
    "\n",
    "connection = psycopg2.connect(**connection_params)\n",
    "cursor = connection.cursor()\n",
    "\n",
    "movies_file_path = 'D:\\\\Squadcast Assignment\\\\movies.csv'\n",
    "ratings_file_path = 'D:\\\\Squadcast Assignment\\\\ratings.csv'\n",
    "\n",
    "\n",
    "engine = create_engine(f'postgresql+psycopg2://{connection_params[\"user\"]}:{connection_params[\"password\"]}@{connection_params[\"host\"]}:{connection_params[\"port\"]}/{connection_params[\"database\"]}')\n",
    "\n",
    "\n",
    "movies_table = \"\"\"\n",
    "CREATE TABLE IF NOT EXISTS movies (\n",
    "    id SERIAL PRIMARY KEY,\n",
    "    title VARCHAR(50),\n",
    "    year INTEGER,\n",
    "    country VARCHAR(50),\n",
    "    genre VARCHAR(50),\n",
    "    director VARCHAR(50),\n",
    "    minutes INTEGER,\n",
    "    poster VARCHAR(500)\n",
    ");\n",
    "\"\"\"\n",
    "\n",
    "ratings_table = \"\"\"\n",
    "CREATE TABLE IF NOT EXISTS ratings (\n",
    "    rater_id INTEGER,\n",
    "    movie_id INTEGER,\n",
    "    rating INTEGER,\n",
    "    time INTEGER\n",
    ");\n",
    "\"\"\"\n",
    "\n",
    "with engine.connect() as connection:\n",
    "    connection.execute(movies_table)\n",
    "    connection.execute(ratings_table)\n",
    "\n",
    "movies_df = pd.read_csv(movies_file_path)\n",
    "ratings_df = pd.read_csv(ratings_file_path)\n",
    "\n",
    "movies_df.to_sql('movies', con=engine, if_exists='replace', index=False)\n",
    "ratings_df.to_sql('ratings', con=engine, if_exists = 'replace',index = False)"
   ]
  },
  {
   "cell_type": "code",
   "execution_count": 56,
   "id": "bcd7b0e3",
   "metadata": {},
   "outputs": [],
   "source": [
    "# The above steps shows that data is being perfectly loaded into Postgres database"
   ]
  },
  {
   "cell_type": "code",
   "execution_count": 114,
   "id": "2de51fcb",
   "metadata": {},
   "outputs": [
    {
     "data": {
      "text/html": [
       "<div>\n",
       "<style scoped>\n",
       "    .dataframe tbody tr th:only-of-type {\n",
       "        vertical-align: middle;\n",
       "    }\n",
       "\n",
       "    .dataframe tbody tr th {\n",
       "        vertical-align: top;\n",
       "    }\n",
       "\n",
       "    .dataframe thead th {\n",
       "        text-align: right;\n",
       "    }\n",
       "</style>\n",
       "<table border=\"1\" class=\"dataframe\">\n",
       "  <thead>\n",
       "    <tr style=\"text-align: right;\">\n",
       "      <th></th>\n",
       "      <th>id</th>\n",
       "      <th>title</th>\n",
       "      <th>year</th>\n",
       "      <th>country</th>\n",
       "      <th>genre</th>\n",
       "      <th>director</th>\n",
       "      <th>minutes</th>\n",
       "      <th>poster</th>\n",
       "    </tr>\n",
       "  </thead>\n",
       "  <tbody>\n",
       "    <tr>\n",
       "      <th>0</th>\n",
       "      <td>3112654</td>\n",
       "      <td>Mea culpa</td>\n",
       "      <td>2014</td>\n",
       "      <td>France</td>\n",
       "      <td>Action, Thriller</td>\n",
       "      <td>Fred Cavayé</td>\n",
       "      <td>90</td>\n",
       "      <td>http://ia.media-imdb.com/images/M/MV5BNTQ0ODAw...</td>\n",
       "    </tr>\n",
       "    <tr>\n",
       "      <th>1</th>\n",
       "      <td>1571222</td>\n",
       "      <td>A Dangerous Method</td>\n",
       "      <td>2011</td>\n",
       "      <td>UK, Germany, Canada, Switzerland</td>\n",
       "      <td>Biography, Drama, Thriller</td>\n",
       "      <td>David Cronenberg</td>\n",
       "      <td>99</td>\n",
       "      <td>http://ia.media-imdb.com/images/M/MV5BMTU5Mjk3...</td>\n",
       "    </tr>\n",
       "    <tr>\n",
       "      <th>2</th>\n",
       "      <td>2756032</td>\n",
       "      <td>The One I Love</td>\n",
       "      <td>2014</td>\n",
       "      <td>USA</td>\n",
       "      <td>Comedy, Drama, Romance</td>\n",
       "      <td>Charlie McDowell</td>\n",
       "      <td>91</td>\n",
       "      <td>http://ia.media-imdb.com/images/M/MV5BMTgzODMy...</td>\n",
       "    </tr>\n",
       "    <tr>\n",
       "      <th>3</th>\n",
       "      <td>2370248</td>\n",
       "      <td>Short Term 12</td>\n",
       "      <td>2013</td>\n",
       "      <td>USA</td>\n",
       "      <td>Drama</td>\n",
       "      <td>Destin Daniel Cretton</td>\n",
       "      <td>96</td>\n",
       "      <td>http://ia.media-imdb.com/images/M/MV5BMTEwNjE2...</td>\n",
       "    </tr>\n",
       "    <tr>\n",
       "      <th>4</th>\n",
       "      <td>57171</td>\n",
       "      <td>Yesterday, Today and Tomorrow</td>\n",
       "      <td>1963</td>\n",
       "      <td>Italy, France</td>\n",
       "      <td>Comedy, Romance</td>\n",
       "      <td>Vittorio De Sica</td>\n",
       "      <td>119</td>\n",
       "      <td>http://ia.media-imdb.com/images/M/MV5BMTY0NDc4...</td>\n",
       "    </tr>\n",
       "  </tbody>\n",
       "</table>\n",
       "</div>"
      ],
      "text/plain": [
       "        id                          title  year  \\\n",
       "0  3112654                      Mea culpa  2014   \n",
       "1  1571222             A Dangerous Method  2011   \n",
       "2  2756032                 The One I Love  2014   \n",
       "3  2370248                  Short Term 12  2013   \n",
       "4    57171  Yesterday, Today and Tomorrow  1963   \n",
       "\n",
       "                            country                       genre  \\\n",
       "0                            France            Action, Thriller   \n",
       "1  UK, Germany, Canada, Switzerland  Biography, Drama, Thriller   \n",
       "2                               USA      Comedy, Drama, Romance   \n",
       "3                               USA                       Drama   \n",
       "4                     Italy, France             Comedy, Romance   \n",
       "\n",
       "                director  minutes  \\\n",
       "0            Fred Cavayé       90   \n",
       "1       David Cronenberg       99   \n",
       "2       Charlie McDowell       91   \n",
       "3  Destin Daniel Cretton       96   \n",
       "4       Vittorio De Sica      119   \n",
       "\n",
       "                                              poster  \n",
       "0  http://ia.media-imdb.com/images/M/MV5BNTQ0ODAw...  \n",
       "1  http://ia.media-imdb.com/images/M/MV5BMTU5Mjk3...  \n",
       "2  http://ia.media-imdb.com/images/M/MV5BMTgzODMy...  \n",
       "3  http://ia.media-imdb.com/images/M/MV5BMTEwNjE2...  \n",
       "4  http://ia.media-imdb.com/images/M/MV5BMTY0NDc4...  "
      ]
     },
     "execution_count": 114,
     "metadata": {},
     "output_type": "execute_result"
    }
   ],
   "source": [
    "movies_df.head()"
   ]
  },
  {
   "cell_type": "code",
   "execution_count": 115,
   "id": "83615964",
   "metadata": {},
   "outputs": [
    {
     "data": {
      "text/plain": [
       "(3143, 8)"
      ]
     },
     "execution_count": 115,
     "metadata": {},
     "output_type": "execute_result"
    }
   ],
   "source": [
    "movies_df.shape"
   ]
  },
  {
   "cell_type": "code",
   "execution_count": 116,
   "id": "c048bdf3",
   "metadata": {},
   "outputs": [
    {
     "data": {
      "text/plain": [
       "Index(['id', 'title', 'year', 'country', 'genre', 'director', 'minutes',\n",
       "       'poster'],\n",
       "      dtype='object')"
      ]
     },
     "execution_count": 116,
     "metadata": {},
     "output_type": "execute_result"
    }
   ],
   "source": [
    "movies_df.columns"
   ]
  },
  {
   "cell_type": "code",
   "execution_count": 117,
   "id": "6f44635e",
   "metadata": {},
   "outputs": [
    {
     "data": {
      "text/plain": [
       "id           int64\n",
       "title       object\n",
       "year         int64\n",
       "country     object\n",
       "genre       object\n",
       "director    object\n",
       "minutes      int64\n",
       "poster      object\n",
       "dtype: object"
      ]
     },
     "execution_count": 117,
     "metadata": {},
     "output_type": "execute_result"
    }
   ],
   "source": [
    "movies_df.dtypes"
   ]
  },
  {
   "cell_type": "code",
   "execution_count": 118,
   "id": "826722ec",
   "metadata": {},
   "outputs": [
    {
     "data": {
      "text/html": [
       "<div>\n",
       "<style scoped>\n",
       "    .dataframe tbody tr th:only-of-type {\n",
       "        vertical-align: middle;\n",
       "    }\n",
       "\n",
       "    .dataframe tbody tr th {\n",
       "        vertical-align: top;\n",
       "    }\n",
       "\n",
       "    .dataframe thead th {\n",
       "        text-align: right;\n",
       "    }\n",
       "</style>\n",
       "<table border=\"1\" class=\"dataframe\">\n",
       "  <thead>\n",
       "    <tr style=\"text-align: right;\">\n",
       "      <th></th>\n",
       "      <th>rater_id</th>\n",
       "      <th>movie_id</th>\n",
       "      <th>rating</th>\n",
       "      <th>time</th>\n",
       "    </tr>\n",
       "  </thead>\n",
       "  <tbody>\n",
       "    <tr>\n",
       "      <th>0</th>\n",
       "      <td>1</td>\n",
       "      <td>68646</td>\n",
       "      <td>10</td>\n",
       "      <td>1381620027</td>\n",
       "    </tr>\n",
       "    <tr>\n",
       "      <th>1</th>\n",
       "      <td>1</td>\n",
       "      <td>113277</td>\n",
       "      <td>10</td>\n",
       "      <td>1379466669</td>\n",
       "    </tr>\n",
       "    <tr>\n",
       "      <th>2</th>\n",
       "      <td>2</td>\n",
       "      <td>422720</td>\n",
       "      <td>8</td>\n",
       "      <td>1412178746</td>\n",
       "    </tr>\n",
       "    <tr>\n",
       "      <th>3</th>\n",
       "      <td>2</td>\n",
       "      <td>454876</td>\n",
       "      <td>8</td>\n",
       "      <td>1394818630</td>\n",
       "    </tr>\n",
       "    <tr>\n",
       "      <th>4</th>\n",
       "      <td>2</td>\n",
       "      <td>790636</td>\n",
       "      <td>7</td>\n",
       "      <td>1389963947</td>\n",
       "    </tr>\n",
       "  </tbody>\n",
       "</table>\n",
       "</div>"
      ],
      "text/plain": [
       "   rater_id  movie_id  rating        time\n",
       "0         1     68646      10  1381620027\n",
       "1         1    113277      10  1379466669\n",
       "2         2    422720       8  1412178746\n",
       "3         2    454876       8  1394818630\n",
       "4         2    790636       7  1389963947"
      ]
     },
     "execution_count": 118,
     "metadata": {},
     "output_type": "execute_result"
    }
   ],
   "source": [
    "ratings_df.head()"
   ]
  },
  {
   "cell_type": "code",
   "execution_count": 119,
   "id": "e03ba6a3",
   "metadata": {},
   "outputs": [
    {
     "data": {
      "text/plain": [
       "(10000, 4)"
      ]
     },
     "execution_count": 119,
     "metadata": {},
     "output_type": "execute_result"
    }
   ],
   "source": [
    "ratings_df.shape"
   ]
  },
  {
   "cell_type": "code",
   "execution_count": 120,
   "id": "3dd8b8f4",
   "metadata": {},
   "outputs": [
    {
     "data": {
      "text/plain": [
       "rater_id    int64\n",
       "movie_id    int64\n",
       "rating      int64\n",
       "time        int64\n",
       "dtype: object"
      ]
     },
     "execution_count": 120,
     "metadata": {},
     "output_type": "execute_result"
    }
   ],
   "source": [
    "ratings_df.dtypes"
   ]
  },
  {
   "cell_type": "code",
   "execution_count": 61,
   "id": "423dec73",
   "metadata": {},
   "outputs": [],
   "source": [
    "# movies file contains 3143 rows and 8 columns "
   ]
  },
  {
   "cell_type": "code",
   "execution_count": 68,
   "id": "324ede31",
   "metadata": {},
   "outputs": [],
   "source": [
    "# ratings files contains 10000 rows and 4 columns"
   ]
  },
  {
   "cell_type": "code",
   "execution_count": 98,
   "id": "44119739",
   "metadata": {},
   "outputs": [
    {
     "data": {
      "text/plain": [
       "[('movies',), ('ratings',)]"
      ]
     },
     "execution_count": 98,
     "metadata": {},
     "output_type": "execute_result"
    }
   ],
   "source": [
    "cursor.execute(\"SELECT table_name FROM information_schema.tables WHERE table_schema='public';\")\n",
    "tables = cursor.fetchall()\n",
    "tables"
   ]
  },
  {
   "cell_type": "markdown",
   "id": "fedcf0ed",
   "metadata": {},
   "source": [
    "### Part - 2 (Insights and Analysis)"
   ]
  },
  {
   "cell_type": "markdown",
   "id": "c5c4721f",
   "metadata": {},
   "source": [
    "###### Top 5 Movie Titles: Sort and print the top 5 movie titles based on the following criteria:\n",
    "\n",
    "1. Duration\n",
    "2. Year of Release\n",
    "3. Average rating (consider movies with minimum 5 ratings)\n",
    "4. Number of ratings given"
   ]
  },
  {
   "cell_type": "code",
   "execution_count": 153,
   "id": "e2db168e",
   "metadata": {},
   "outputs": [],
   "source": [
    "combined_df = pd.merge(movies_df,ratings_df,left_on='id',right_on='movie_id',how = 'right')"
   ]
  },
  {
   "cell_type": "code",
   "execution_count": 194,
   "id": "d5cc9d6b",
   "metadata": {
    "scrolled": false
   },
   "outputs": [
    {
     "data": {
      "text/html": [
       "<div>\n",
       "<style scoped>\n",
       "    .dataframe tbody tr th:only-of-type {\n",
       "        vertical-align: middle;\n",
       "    }\n",
       "\n",
       "    .dataframe tbody tr th {\n",
       "        vertical-align: top;\n",
       "    }\n",
       "\n",
       "    .dataframe thead th {\n",
       "        text-align: right;\n",
       "    }\n",
       "</style>\n",
       "<table border=\"1\" class=\"dataframe\">\n",
       "  <thead>\n",
       "    <tr style=\"text-align: right;\">\n",
       "      <th></th>\n",
       "      <th>id</th>\n",
       "      <th>title</th>\n",
       "      <th>year</th>\n",
       "      <th>country</th>\n",
       "      <th>genre</th>\n",
       "      <th>director</th>\n",
       "      <th>minutes</th>\n",
       "      <th>poster</th>\n",
       "      <th>rater_id</th>\n",
       "      <th>movie_id</th>\n",
       "      <th>rating</th>\n",
       "      <th>time</th>\n",
       "    </tr>\n",
       "  </thead>\n",
       "  <tbody>\n",
       "    <tr>\n",
       "      <th>0</th>\n",
       "      <td>68646</td>\n",
       "      <td>The Godfather</td>\n",
       "      <td>1972</td>\n",
       "      <td>USA</td>\n",
       "      <td>Crime, Drama</td>\n",
       "      <td>Francis Ford Coppola</td>\n",
       "      <td>175</td>\n",
       "      <td>http://ia.media-imdb.com/images/M/MV5BMjEyMjcy...</td>\n",
       "      <td>1</td>\n",
       "      <td>68646</td>\n",
       "      <td>10</td>\n",
       "      <td>1381620027</td>\n",
       "    </tr>\n",
       "    <tr>\n",
       "      <th>1</th>\n",
       "      <td>113277</td>\n",
       "      <td>Heat</td>\n",
       "      <td>1995</td>\n",
       "      <td>USA</td>\n",
       "      <td>Action, Crime, Drama</td>\n",
       "      <td>Michael Mann</td>\n",
       "      <td>170</td>\n",
       "      <td>http://ia.media-imdb.com/images/M/MV5BMTM1NDc4...</td>\n",
       "      <td>1</td>\n",
       "      <td>113277</td>\n",
       "      <td>10</td>\n",
       "      <td>1379466669</td>\n",
       "    </tr>\n",
       "    <tr>\n",
       "      <th>2</th>\n",
       "      <td>422720</td>\n",
       "      <td>Marie Antoinette</td>\n",
       "      <td>2006</td>\n",
       "      <td>USA, France, Japan</td>\n",
       "      <td>Biography, Drama, History</td>\n",
       "      <td>Sofia Coppola</td>\n",
       "      <td>123</td>\n",
       "      <td>http://ia.media-imdb.com/images/M/MV5BMTIzOTk1...</td>\n",
       "      <td>2</td>\n",
       "      <td>422720</td>\n",
       "      <td>8</td>\n",
       "      <td>1412178746</td>\n",
       "    </tr>\n",
       "    <tr>\n",
       "      <th>3</th>\n",
       "      <td>454876</td>\n",
       "      <td>Life of Pi</td>\n",
       "      <td>2012</td>\n",
       "      <td>USA, Taiwan, UK</td>\n",
       "      <td>Adventure, Drama, Fantasy</td>\n",
       "      <td>Ang Lee</td>\n",
       "      <td>127</td>\n",
       "      <td>http://ia.media-imdb.com/images/M/MV5BNTg2OTY2...</td>\n",
       "      <td>2</td>\n",
       "      <td>454876</td>\n",
       "      <td>8</td>\n",
       "      <td>1394818630</td>\n",
       "    </tr>\n",
       "    <tr>\n",
       "      <th>4</th>\n",
       "      <td>790636</td>\n",
       "      <td>Dallas Buyers Club</td>\n",
       "      <td>2013</td>\n",
       "      <td>USA</td>\n",
       "      <td>Biography, Drama</td>\n",
       "      <td>Jean-Marc Vallée</td>\n",
       "      <td>117</td>\n",
       "      <td>NaN</td>\n",
       "      <td>2</td>\n",
       "      <td>790636</td>\n",
       "      <td>7</td>\n",
       "      <td>1389963947</td>\n",
       "    </tr>\n",
       "  </tbody>\n",
       "</table>\n",
       "</div>"
      ],
      "text/plain": [
       "       id               title  year             country  \\\n",
       "0   68646       The Godfather  1972                 USA   \n",
       "1  113277                Heat  1995                 USA   \n",
       "2  422720    Marie Antoinette  2006  USA, France, Japan   \n",
       "3  454876          Life of Pi  2012     USA, Taiwan, UK   \n",
       "4  790636  Dallas Buyers Club  2013                 USA   \n",
       "\n",
       "                       genre              director  minutes  \\\n",
       "0               Crime, Drama  Francis Ford Coppola      175   \n",
       "1       Action, Crime, Drama          Michael Mann      170   \n",
       "2  Biography, Drama, History         Sofia Coppola      123   \n",
       "3  Adventure, Drama, Fantasy               Ang Lee      127   \n",
       "4           Biography, Drama      Jean-Marc Vallée      117   \n",
       "\n",
       "                                              poster  rater_id  movie_id  \\\n",
       "0  http://ia.media-imdb.com/images/M/MV5BMjEyMjcy...         1     68646   \n",
       "1  http://ia.media-imdb.com/images/M/MV5BMTM1NDc4...         1    113277   \n",
       "2  http://ia.media-imdb.com/images/M/MV5BMTIzOTk1...         2    422720   \n",
       "3  http://ia.media-imdb.com/images/M/MV5BNTg2OTY2...         2    454876   \n",
       "4                                                NaN         2    790636   \n",
       "\n",
       "   rating        time  \n",
       "0      10  1381620027  \n",
       "1      10  1379466669  \n",
       "2       8  1412178746  \n",
       "3       8  1394818630  \n",
       "4       7  1389963947  "
      ]
     },
     "execution_count": 194,
     "metadata": {},
     "output_type": "execute_result"
    }
   ],
   "source": [
    "combined_df.head()"
   ]
  },
  {
   "cell_type": "code",
   "execution_count": 198,
   "id": "9909787a",
   "metadata": {},
   "outputs": [],
   "source": [
    "top_movies_by_duration = movies_df.sort_values(by='minutes', ascending=False).head(5)[['title', 'minutes']]"
   ]
  },
  {
   "cell_type": "code",
   "execution_count": 197,
   "id": "6f524319",
   "metadata": {},
   "outputs": [
    {
     "data": {
      "text/html": [
       "<div>\n",
       "<style scoped>\n",
       "    .dataframe tbody tr th:only-of-type {\n",
       "        vertical-align: middle;\n",
       "    }\n",
       "\n",
       "    .dataframe tbody tr th {\n",
       "        vertical-align: top;\n",
       "    }\n",
       "\n",
       "    .dataframe thead th {\n",
       "        text-align: right;\n",
       "    }\n",
       "</style>\n",
       "<table border=\"1\" class=\"dataframe\">\n",
       "  <thead>\n",
       "    <tr style=\"text-align: right;\">\n",
       "      <th></th>\n",
       "      <th>title</th>\n",
       "      <th>minutes</th>\n",
       "    </tr>\n",
       "  </thead>\n",
       "  <tbody>\n",
       "    <tr>\n",
       "      <th>903</th>\n",
       "      <td>Gangs of Wasseypur</td>\n",
       "      <td>320</td>\n",
       "    </tr>\n",
       "    <tr>\n",
       "      <th>1065</th>\n",
       "      <td>Gone with the Wind</td>\n",
       "      <td>238</td>\n",
       "    </tr>\n",
       "    <tr>\n",
       "      <th>157</th>\n",
       "      <td>Once Upon a Time in America</td>\n",
       "      <td>229</td>\n",
       "    </tr>\n",
       "    <tr>\n",
       "      <th>434</th>\n",
       "      <td>Lawrence of Arabia</td>\n",
       "      <td>216</td>\n",
       "    </tr>\n",
       "    <tr>\n",
       "      <th>2595</th>\n",
       "      <td>Jodhaa Akbar</td>\n",
       "      <td>213</td>\n",
       "    </tr>\n",
       "  </tbody>\n",
       "</table>\n",
       "</div>"
      ],
      "text/plain": [
       "                            title  minutes\n",
       "903            Gangs of Wasseypur      320\n",
       "1065           Gone with the Wind      238\n",
       "157   Once Upon a Time in America      229\n",
       "434            Lawrence of Arabia      216\n",
       "2595                 Jodhaa Akbar      213"
      ]
     },
     "execution_count": 197,
     "metadata": {},
     "output_type": "execute_result"
    }
   ],
   "source": [
    "top_movies_by_duration"
   ]
  },
  {
   "cell_type": "code",
   "execution_count": null,
   "id": "e01faa80",
   "metadata": {},
   "outputs": [],
   "source": [
    "#Top movies by duration are Gangs of Wasseypur with the highest 320 minutes, Gone with the wind, Once upon a time in America, Lawerence of Arabia, jodhaa akbhar"
   ]
  },
  {
   "cell_type": "code",
   "execution_count": 199,
   "id": "7c6e4d44",
   "metadata": {},
   "outputs": [
    {
     "data": {
      "text/html": [
       "<div>\n",
       "<style scoped>\n",
       "    .dataframe tbody tr th:only-of-type {\n",
       "        vertical-align: middle;\n",
       "    }\n",
       "\n",
       "    .dataframe tbody tr th {\n",
       "        vertical-align: top;\n",
       "    }\n",
       "\n",
       "    .dataframe thead th {\n",
       "        text-align: right;\n",
       "    }\n",
       "</style>\n",
       "<table border=\"1\" class=\"dataframe\">\n",
       "  <thead>\n",
       "    <tr style=\"text-align: right;\">\n",
       "      <th></th>\n",
       "      <th>title</th>\n",
       "      <th>year</th>\n",
       "    </tr>\n",
       "  </thead>\n",
       "  <tbody>\n",
       "    <tr>\n",
       "      <th>1855</th>\n",
       "      <td>Maggie</td>\n",
       "      <td>2015</td>\n",
       "    </tr>\n",
       "    <tr>\n",
       "      <th>2142</th>\n",
       "      <td>Tracers</td>\n",
       "      <td>2015</td>\n",
       "    </tr>\n",
       "    <tr>\n",
       "      <th>1157</th>\n",
       "      <td>Hidden</td>\n",
       "      <td>2015</td>\n",
       "    </tr>\n",
       "    <tr>\n",
       "      <th>2320</th>\n",
       "      <td>They Look Like People</td>\n",
       "      <td>2015</td>\n",
       "    </tr>\n",
       "    <tr>\n",
       "      <th>1145</th>\n",
       "      <td>Hitman: Agent 47</td>\n",
       "      <td>2015</td>\n",
       "    </tr>\n",
       "  </tbody>\n",
       "</table>\n",
       "</div>"
      ],
      "text/plain": [
       "                      title  year\n",
       "1855                 Maggie  2015\n",
       "2142                Tracers  2015\n",
       "1157                 Hidden  2015\n",
       "2320  They Look Like People  2015\n",
       "1145       Hitman: Agent 47  2015"
      ]
     },
     "execution_count": 199,
     "metadata": {},
     "output_type": "execute_result"
    }
   ],
   "source": [
    "top_movies_by_year = movies_df.sort_values(by='year', ascending=False).head(5)[['title', 'year']]\n",
    "top_movies_by_year"
   ]
  },
  {
   "cell_type": "code",
   "execution_count": null,
   "id": "2b5012cc",
   "metadata": {},
   "outputs": [],
   "source": [
    "# Top five movies based on year are Maggie, Tracers, Hidden, They look like People and Hitman: Agent 47 they got released around year 2015"
   ]
  },
  {
   "cell_type": "code",
   "execution_count": 200,
   "id": "69a36986",
   "metadata": {},
   "outputs": [],
   "source": [
    "# Consider movies with minimum 5 ratings"
   ]
  },
  {
   "cell_type": "code",
   "execution_count": 201,
   "id": "8e6932ec",
   "metadata": {},
   "outputs": [
    {
     "data": {
      "text/html": [
       "<div>\n",
       "<style scoped>\n",
       "    .dataframe tbody tr th:only-of-type {\n",
       "        vertical-align: middle;\n",
       "    }\n",
       "\n",
       "    .dataframe tbody tr th {\n",
       "        vertical-align: top;\n",
       "    }\n",
       "\n",
       "    .dataframe thead th {\n",
       "        text-align: right;\n",
       "    }\n",
       "</style>\n",
       "<table border=\"1\" class=\"dataframe\">\n",
       "  <thead>\n",
       "    <tr style=\"text-align: right;\">\n",
       "      <th></th>\n",
       "      <th>title</th>\n",
       "      <th>rating</th>\n",
       "    </tr>\n",
       "  </thead>\n",
       "  <tbody>\n",
       "    <tr>\n",
       "      <th>531</th>\n",
       "      <td>New Nightmare</td>\n",
       "      <td>10.0</td>\n",
       "    </tr>\n",
       "    <tr>\n",
       "      <th>286</th>\n",
       "      <td>Conan the Barbarian</td>\n",
       "      <td>10.0</td>\n",
       "    </tr>\n",
       "    <tr>\n",
       "      <th>681</th>\n",
       "      <td>U.S. Marshals</td>\n",
       "      <td>10.0</td>\n",
       "    </tr>\n",
       "    <tr>\n",
       "      <th>1359</th>\n",
       "      <td>Seven Pounds</td>\n",
       "      <td>10.0</td>\n",
       "    </tr>\n",
       "    <tr>\n",
       "      <th>2002</th>\n",
       "      <td>The Prophet</td>\n",
       "      <td>10.0</td>\n",
       "    </tr>\n",
       "  </tbody>\n",
       "</table>\n",
       "</div>"
      ],
      "text/plain": [
       "                    title  rating\n",
       "531         New Nightmare    10.0\n",
       "286   Conan the Barbarian    10.0\n",
       "681         U.S. Marshals    10.0\n",
       "1359         Seven Pounds    10.0\n",
       "2002          The Prophet    10.0"
      ]
     },
     "execution_count": 201,
     "metadata": {},
     "output_type": "execute_result"
    }
   ],
   "source": [
    "avg_ratings = ratings_df.groupby('movie_id')['rating'].mean().reset_index()\n",
    "avg_ratings = avg_ratings[avg_ratings['rating'] >= 5]\n",
    "avg_ratings = pd.merge(avg_ratings, movies_df, left_on='movie_id', right_on='id', how='inner')\n",
    "top_movies_by_avg_rating = avg_ratings.sort_values(by='rating', ascending=False).head(5)[['title', 'rating']]\n",
    "top_movies_by_avg_rating"
   ]
  },
  {
   "cell_type": "code",
   "execution_count": 202,
   "id": "b19b58e7",
   "metadata": {},
   "outputs": [],
   "source": [
    "#the above movies have avg ratings of New Nighmare, conan the barbarian, U.S Marshals, Seven pounds The Prophet have the avg ratings of 10"
   ]
  },
  {
   "cell_type": "code",
   "execution_count": 203,
   "id": "03ff2b5d",
   "metadata": {},
   "outputs": [],
   "source": [
    "#Number of ratings given"
   ]
  },
  {
   "cell_type": "code",
   "execution_count": 204,
   "id": "e7dff247",
   "metadata": {},
   "outputs": [
    {
     "data": {
      "text/html": [
       "<div>\n",
       "<style scoped>\n",
       "    .dataframe tbody tr th:only-of-type {\n",
       "        vertical-align: middle;\n",
       "    }\n",
       "\n",
       "    .dataframe tbody tr th {\n",
       "        vertical-align: top;\n",
       "    }\n",
       "\n",
       "    .dataframe thead th {\n",
       "        text-align: right;\n",
       "    }\n",
       "</style>\n",
       "<table border=\"1\" class=\"dataframe\">\n",
       "  <thead>\n",
       "    <tr style=\"text-align: right;\">\n",
       "      <th></th>\n",
       "      <th>title</th>\n",
       "      <th>rating</th>\n",
       "    </tr>\n",
       "  </thead>\n",
       "  <tbody>\n",
       "    <tr>\n",
       "      <th>1522</th>\n",
       "      <td>The Wolf of Wall Street</td>\n",
       "      <td>69</td>\n",
       "    </tr>\n",
       "    <tr>\n",
       "      <th>1917</th>\n",
       "      <td>Gravity</td>\n",
       "      <td>64</td>\n",
       "    </tr>\n",
       "    <tr>\n",
       "      <th>1365</th>\n",
       "      <td>Man of Steel</td>\n",
       "      <td>60</td>\n",
       "    </tr>\n",
       "    <tr>\n",
       "      <th>2143</th>\n",
       "      <td>Now You See Me</td>\n",
       "      <td>59</td>\n",
       "    </tr>\n",
       "    <tr>\n",
       "      <th>1412</th>\n",
       "      <td>Interstellar</td>\n",
       "      <td>58</td>\n",
       "    </tr>\n",
       "  </tbody>\n",
       "</table>\n",
       "</div>"
      ],
      "text/plain": [
       "                        title  rating\n",
       "1522  The Wolf of Wall Street      69\n",
       "1917                  Gravity      64\n",
       "1365             Man of Steel      60\n",
       "2143           Now You See Me      59\n",
       "1412             Interstellar      58"
      ]
     },
     "execution_count": 204,
     "metadata": {},
     "output_type": "execute_result"
    }
   ],
   "source": [
    "num_ratings = ratings_df.groupby('movie_id')['rating'].count().reset_index()\n",
    "num_ratings = pd.merge(num_ratings, movies_df, left_on='movie_id', right_on='id', how='inner')\n",
    "top_movies_by_num_ratings = num_ratings.sort_values(by='rating', ascending=False).head(5)[['title', 'rating']]\n",
    "top_movies_by_num_ratings"
   ]
  },
  {
   "cell_type": "code",
   "execution_count": 205,
   "id": "5bd85371",
   "metadata": {},
   "outputs": [],
   "source": [
    "# the wolf of the wall street has highest number ratings of 69, Gravity 64, Man of Steel 60, Now you see me 59, Interstellar 58"
   ]
  },
  {
   "cell_type": "markdown",
   "id": "72f7aff6",
   "metadata": {},
   "source": [
    "#### B. Number of Unique Raters: Determine and print the count of unique rater IDs."
   ]
  },
  {
   "cell_type": "code",
   "execution_count": 206,
   "id": "79135fed",
   "metadata": {},
   "outputs": [
    {
     "data": {
      "text/plain": [
       "1048"
      ]
     },
     "execution_count": 206,
     "metadata": {},
     "output_type": "execute_result"
    }
   ],
   "source": [
    "unique_raters_count = ratings_df['rater_id'].nunique()\n",
    "unique_raters_count"
   ]
  },
  {
   "cell_type": "code",
   "execution_count": 207,
   "id": "41be36cf",
   "metadata": {},
   "outputs": [],
   "source": [
    "# 1048 are the numbers of the unique_raters_count"
   ]
  },
  {
   "cell_type": "markdown",
   "id": "0bc3d56d",
   "metadata": {},
   "source": [
    "##### C. Top 5 Rater IDs: Sort and print the top 5 rater IDs based on:\n",
    "1. Most movies rated\n",
    "2. Highest Average rating given (consider raters with min 5 ratings) "
   ]
  },
  {
   "cell_type": "code",
   "execution_count": 210,
   "id": "3fece92e",
   "metadata": {},
   "outputs": [
    {
     "data": {
      "text/html": [
       "<div>\n",
       "<style scoped>\n",
       "    .dataframe tbody tr th:only-of-type {\n",
       "        vertical-align: middle;\n",
       "    }\n",
       "\n",
       "    .dataframe tbody tr th {\n",
       "        vertical-align: top;\n",
       "    }\n",
       "\n",
       "    .dataframe thead th {\n",
       "        text-align: right;\n",
       "    }\n",
       "</style>\n",
       "<table border=\"1\" class=\"dataframe\">\n",
       "  <thead>\n",
       "    <tr style=\"text-align: right;\">\n",
       "      <th></th>\n",
       "      <th>count</th>\n",
       "    </tr>\n",
       "    <tr>\n",
       "      <th>rater_id</th>\n",
       "      <th></th>\n",
       "    </tr>\n",
       "  </thead>\n",
       "  <tbody>\n",
       "    <tr>\n",
       "      <th>735</th>\n",
       "      <td>314</td>\n",
       "    </tr>\n",
       "    <tr>\n",
       "      <th>769</th>\n",
       "      <td>209</td>\n",
       "    </tr>\n",
       "    <tr>\n",
       "      <th>512</th>\n",
       "      <td>188</td>\n",
       "    </tr>\n",
       "    <tr>\n",
       "      <th>800</th>\n",
       "      <td>186</td>\n",
       "    </tr>\n",
       "    <tr>\n",
       "      <th>82</th>\n",
       "      <td>159</td>\n",
       "    </tr>\n",
       "  </tbody>\n",
       "</table>\n",
       "</div>"
      ],
      "text/plain": [
       "          count\n",
       "rater_id       \n",
       "735         314\n",
       "769         209\n",
       "512         188\n",
       "800         186\n",
       "82          159"
      ]
     },
     "execution_count": 210,
     "metadata": {},
     "output_type": "execute_result"
    }
   ],
   "source": [
    "top_raters_by_movies_rated = ratings_df['rater_id'].value_counts().head(5)\n",
    "pd.DataFrame(top_raters_by_movies_rated)"
   ]
  },
  {
   "cell_type": "code",
   "execution_count": null,
   "id": "4dd71ca5",
   "metadata": {},
   "outputs": [],
   "source": [
    "# The Person with rater id 735 has rated of more 314 times "
   ]
  },
  {
   "cell_type": "code",
   "execution_count": 211,
   "id": "c73c58f6",
   "metadata": {},
   "outputs": [
    {
     "data": {
      "text/html": [
       "<div>\n",
       "<style scoped>\n",
       "    .dataframe tbody tr th:only-of-type {\n",
       "        vertical-align: middle;\n",
       "    }\n",
       "\n",
       "    .dataframe tbody tr th {\n",
       "        vertical-align: top;\n",
       "    }\n",
       "\n",
       "    .dataframe thead th {\n",
       "        text-align: right;\n",
       "    }\n",
       "</style>\n",
       "<table border=\"1\" class=\"dataframe\">\n",
       "  <thead>\n",
       "    <tr style=\"text-align: right;\">\n",
       "      <th></th>\n",
       "      <th>rater_id</th>\n",
       "      <th>rating</th>\n",
       "    </tr>\n",
       "  </thead>\n",
       "  <tbody>\n",
       "    <tr>\n",
       "      <th>0</th>\n",
       "      <td>1</td>\n",
       "      <td>10.0</td>\n",
       "    </tr>\n",
       "    <tr>\n",
       "      <th>217</th>\n",
       "      <td>218</td>\n",
       "      <td>10.0</td>\n",
       "    </tr>\n",
       "    <tr>\n",
       "      <th>441</th>\n",
       "      <td>442</td>\n",
       "      <td>10.0</td>\n",
       "    </tr>\n",
       "    <tr>\n",
       "      <th>439</th>\n",
       "      <td>440</td>\n",
       "      <td>10.0</td>\n",
       "    </tr>\n",
       "    <tr>\n",
       "      <th>438</th>\n",
       "      <td>439</td>\n",
       "      <td>10.0</td>\n",
       "    </tr>\n",
       "  </tbody>\n",
       "</table>\n",
       "</div>"
      ],
      "text/plain": [
       "     rater_id  rating\n",
       "0           1    10.0\n",
       "217       218    10.0\n",
       "441       442    10.0\n",
       "439       440    10.0\n",
       "438       439    10.0"
      ]
     },
     "execution_count": 211,
     "metadata": {},
     "output_type": "execute_result"
    }
   ],
   "source": [
    "avg_ratings_by_rater = ratings_df.groupby('rater_id')['rating'].mean().reset_index()\n",
    "avg_ratings_by_rater = avg_ratings_by_rater[avg_ratings_by_rater['rating'] >= 5]\n",
    "top_raters_by_avg_rating = avg_ratings_by_rater.sort_values(by='rating', ascending=False).head(5)\n",
    "top_raters_by_avg_rating"
   ]
  },
  {
   "cell_type": "code",
   "execution_count": 212,
   "id": "8d8ebcb3",
   "metadata": {},
   "outputs": [],
   "source": [
    "# Raters IDs with 1,218,442,440,439 have given highest average rater id"
   ]
  },
  {
   "cell_type": "markdown",
   "id": "ec148431",
   "metadata": {},
   "source": [
    "##### D. Top Rated Movie\n",
    "- Find and print the top-rated movies by:\n",
    "\n",
    "    1. Director 'Michael Bay',\n",
    "    2.'Comedy',\n",
    "    3. In the year 2013\n",
    "    4. In India (consider movies with a minimum of 5 ratings)."
   ]
  },
  {
   "cell_type": "code",
   "execution_count": 215,
   "id": "ac9e23bf",
   "metadata": {},
   "outputs": [
    {
     "data": {
      "text/html": [
       "<div>\n",
       "<style scoped>\n",
       "    .dataframe tbody tr th:only-of-type {\n",
       "        vertical-align: middle;\n",
       "    }\n",
       "\n",
       "    .dataframe tbody tr th {\n",
       "        vertical-align: top;\n",
       "    }\n",
       "\n",
       "    .dataframe thead th {\n",
       "        text-align: right;\n",
       "    }\n",
       "</style>\n",
       "<table border=\"1\" class=\"dataframe\">\n",
       "  <thead>\n",
       "    <tr style=\"text-align: right;\">\n",
       "      <th></th>\n",
       "      <th>title</th>\n",
       "      <th>rating</th>\n",
       "    </tr>\n",
       "  </thead>\n",
       "  <tbody>\n",
       "    <tr>\n",
       "      <th>69</th>\n",
       "      <td>Cool Hand Luke</td>\n",
       "      <td>10.0</td>\n",
       "    </tr>\n",
       "    <tr>\n",
       "      <th>46</th>\n",
       "      <td>Byzantium</td>\n",
       "      <td>10.0</td>\n",
       "    </tr>\n",
       "    <tr>\n",
       "      <th>320</th>\n",
       "      <td>The Godfather: Part II</td>\n",
       "      <td>10.0</td>\n",
       "    </tr>\n",
       "    <tr>\n",
       "      <th>323</th>\n",
       "      <td>The Great Debaters</td>\n",
       "      <td>10.0</td>\n",
       "    </tr>\n",
       "    <tr>\n",
       "      <th>252</th>\n",
       "      <td>Savages</td>\n",
       "      <td>10.0</td>\n",
       "    </tr>\n",
       "  </tbody>\n",
       "</table>\n",
       "</div>"
      ],
      "text/plain": [
       "                      title  rating\n",
       "69           Cool Hand Luke    10.0\n",
       "46                Byzantium    10.0\n",
       "320  The Godfather: Part II    10.0\n",
       "323      The Great Debaters    10.0\n",
       "252                 Savages    10.0"
      ]
     },
     "execution_count": 215,
     "metadata": {},
     "output_type": "execute_result"
    }
   ],
   "source": [
    "action_movies_criteria = (\n",
    "    (ratings_df['rating'] >= 5) &\n",
    "    ((movies_df['director'] == 'Michael Bay') |\n",
    "    (movies_df['genre'] == 'Comedy') |\n",
    "    (movies_df['year'] == 2013) |\n",
    "    (movies_df['country'] == 'India'))\n",
    ")\n",
    "\n",
    "top_rated_movies = pd.merge(ratings_df[action_movies_criteria], movies_df, left_on='movie_id', right_on='id', how='inner')\n",
    "top_rated_movies = top_rated_movies.groupby('title')['rating'].mean().reset_index()\n",
    "top_rated_movies = top_rated_movies.sort_values(by='rating', ascending=False).head(5)[['title', 'rating']]\n",
    "top_rated_movies"
   ]
  },
  {
   "cell_type": "code",
   "execution_count": 216,
   "id": "d42b38b8",
   "metadata": {},
   "outputs": [],
   "source": [
    "# Movies Names with cool Hand Luke, Byzantium, the Godfather: part 2, the great Debaters, savages have the avg ratings of 10"
   ]
  },
  {
   "cell_type": "markdown",
   "id": "bc40a48b",
   "metadata": {},
   "source": [
    "#### E.  Favorite Movie Genre of Rater ID 1040: Determine and print the favorite movie genre for the rater with ID 1040 (defined as the genre of the movie the rater has rated most often)."
   ]
  },
  {
   "cell_type": "code",
   "execution_count": 221,
   "id": "75a9717a",
   "metadata": {},
   "outputs": [
    {
     "data": {
      "text/plain": [
       "'Action, Adventure, Sci-Fi'"
      ]
     },
     "execution_count": 221,
     "metadata": {},
     "output_type": "execute_result"
    }
   ],
   "source": [
    "ratings_by_rater_1040 = combined_df[combined_df['rater_id'] == 1040]\n",
    "favorite_genre_1040 = ratings_by_rater_1040['genre'].value_counts().idxmax()\n",
    "favorite_genre_1040"
   ]
  },
  {
   "cell_type": "code",
   "execution_count": 222,
   "id": "8b7a1bf7",
   "metadata": {},
   "outputs": [],
   "source": [
    "# The Favorite movie genre of the rater_id 1040 is Action, Adventure, Sci-Fi"
   ]
  },
  {
   "cell_type": "markdown",
   "id": "c7c8b74b",
   "metadata": {},
   "source": [
    "##### F. Highest Average Rating for a Movie Genre by Rater ID 1040: Find and print the highest average rating for a movie genre given by the rater with ID 1040 (consider genres with a minimum of 5 ratings)."
   ]
  },
  {
   "cell_type": "code",
   "execution_count": 224,
   "id": "31cd7a48",
   "metadata": {},
   "outputs": [
    {
     "data": {
      "text/plain": [
       "8.454545454545455"
      ]
     },
     "execution_count": 224,
     "metadata": {},
     "output_type": "execute_result"
    }
   ],
   "source": [
    "genres_with_min_5_ratings_1040 = ratings_by_rater_1040['genre'].value_counts().index[ratings_by_rater_1040['genre'].value_counts() >= 5]\n",
    "ratings_by_rater_1040_filtered = ratings_by_rater_1040[ratings_by_rater_1040['genre'].isin(genres_with_min_5_ratings_1040)]\n",
    "highest_avg_rating_genre_1040 = ratings_by_rater_1040_filtered.groupby('genre')['rating'].mean().idxmax()\n",
    "highest_avg_rating_1040 = ratings_by_rater_1040_filtered.groupby('genre')['rating'].mean().max()\n",
    "highest_avg_rating_1040"
   ]
  },
  {
   "cell_type": "code",
   "execution_count": 225,
   "id": "49fa78df",
   "metadata": {},
   "outputs": [],
   "source": [
    "# the Highest average ratings of movie genre vy rater id 1040 is 8.45"
   ]
  },
  {
   "cell_type": "markdown",
   "id": "59d0c365",
   "metadata": {},
   "source": [
    "##### G.Year with Second-Highest Number of Action Movies: Identify and print the year with the second-highest number of action movies from the USA that received an average rating of 6.5 or higher and had a runtime of less than 120 minutes."
   ]
  },
  {
   "cell_type": "code",
   "execution_count": 239,
   "id": "6ee95166",
   "metadata": {},
   "outputs": [
    {
     "name": "stdout",
     "output_type": "stream",
     "text": [
      "There are not enough years with action movies to determine the second-highest year.\n"
     ]
    }
   ],
   "source": [
    "action_movies_criteria = (\n",
    "    (combined_df['genre'] == 'Action') &\n",
    "    (combined_df['country'] == 'USA') &\n",
    "    (combined_df['rating'] >= 6.5) &\n",
    "    (combined_df['minutes'] < 120)\n",
    ")\n",
    "action_movies_filtered = combined_df[action_movies_criteria]\n",
    "if len(action_movies_filtered['year'].unique()) >= 2:\n",
    "    action_movies_count_by_year = action_movies_filtered['year'].value_counts()\n",
    "    second_highest_year_action_movies = action_movies_count_by_year.index[1]\n",
    "    print(\"Second highest year with action movies:\", second_highest_year_action_movies)\n",
    "else:\n",
    "    print(\"There are not enough years with action movies to determine the second-highest year.\")\n"
   ]
  },
  {
   "cell_type": "markdown",
   "id": "ecea99ef",
   "metadata": {},
   "source": [
    "##### H. Count of Movies with High Ratings: Count and print the number of movies that have received at least five reviews with a rating of 7 or higher."
   ]
  },
  {
   "cell_type": "code",
   "execution_count": 240,
   "id": "f7124391",
   "metadata": {},
   "outputs": [
    {
     "data": {
      "text/plain": [
       "305"
      ]
     },
     "execution_count": 240,
     "metadata": {},
     "output_type": "execute_result"
    }
   ],
   "source": [
    "high_rated_movies_count = pd.merge(ratings_df, movies_df, left_on='movie_id', right_on='id', how='inner')\n",
    "high_rated_movies_count = high_rated_movies_count.groupby('title').filter(lambda x: len(x) >= 5 and x['rating'].mean() >= 7)['title'].nunique()\n",
    "high_rated_movies_count"
   ]
  },
  {
   "cell_type": "code",
   "execution_count": 242,
   "id": "cba2f696",
   "metadata": {},
   "outputs": [],
   "source": [
    "# 305 movies are with highest movie ratings in five reviews with 5 ratings"
   ]
  },
  {
   "cell_type": "code",
   "execution_count": 244,
   "id": "9f996008",
   "metadata": {},
   "outputs": [],
   "source": [
    "# Dispalying the results"
   ]
  },
  {
   "cell_type": "code",
   "execution_count": 245,
   "id": "6980d02b",
   "metadata": {},
   "outputs": [
    {
     "name": "stdout",
     "output_type": "stream",
     "text": [
      "a. Top 5 Movie Titles by Duration:\n",
      "                            title  minutes\n",
      "903            Gangs of Wasseypur      320\n",
      "1065           Gone with the Wind      238\n",
      "157   Once Upon a Time in America      229\n",
      "434            Lawrence of Arabia      216\n",
      "2595                 Jodhaa Akbar      213\n",
      "\n",
      "b. Number of Unique Raters: 1048\n",
      "\n",
      "c. Top 5 Rater IDs by Most Movies Rated:\n",
      "rater_id\n",
      "735    314\n",
      "769    209\n",
      "512    188\n",
      "800    186\n",
      "82     159\n",
      "Name: count, dtype: int64\n",
      "\n",
      "d. Top Rated Movies:\n",
      "                      title  rating\n",
      "69           Cool Hand Luke    10.0\n",
      "46                Byzantium    10.0\n",
      "320  The Godfather: Part II    10.0\n",
      "323      The Great Debaters    10.0\n",
      "252                 Savages    10.0\n",
      "\n",
      "e. Favorite Movie Genre of Rater ID 1040: Action, Adventure, Sci-Fi\n",
      "\n",
      "f. Highest Average Rating for a Movie Genre by Rater ID 1040:\n",
      "Genre 'Action, Adventure, Sci-Fi' with a rating of 8.45\n",
      "\n",
      "g. Year with Second-Highest Number of Action Movies: year\n",
      "2003    5\n",
      "Name: count, dtype: int64\n",
      "\n",
      "h. Count of Movies with High Ratings: 305\n"
     ]
    }
   ],
   "source": [
    "print(\"a. Top 5 Movie Titles by Duration:\")\n",
    "print(top_movies_by_duration)\n",
    "\n",
    "print(\"\\nb. Number of Unique Raters:\", unique_raters_count)\n",
    "\n",
    "print(\"\\nc. Top 5 Rater IDs by Most Movies Rated:\")\n",
    "print(top_raters_by_movies_rated)\n",
    "\n",
    "print(\"\\nd. Top Rated Movies:\")\n",
    "print(top_rated_movies)\n",
    "\n",
    "print(\"\\ne. Favorite Movie Genre of Rater ID 1040:\", favorite_genre_1040)\n",
    "\n",
    "print(\"\\nf. Highest Average Rating for a Movie Genre by Rater ID 1040:\")\n",
    "print(f\"Genre '{highest_avg_rating_genre_1040}' with a rating of {highest_avg_rating_1040:.2f}\")\n",
    "\n",
    "print(\"\\ng. Year with Second-Highest Number of Action Movies:\", second_highest_year_action_movies)\n",
    "\n",
    "print(\"\\nh. Count of Movies with High Ratings:\", high_rated_movies_count)"
   ]
  }
 ],
 "metadata": {
  "kernelspec": {
   "display_name": "Python 3 (ipykernel)",
   "language": "python",
   "name": "python3"
  },
  "language_info": {
   "codemirror_mode": {
    "name": "ipython",
    "version": 3
   },
   "file_extension": ".py",
   "mimetype": "text/x-python",
   "name": "python",
   "nbconvert_exporter": "python",
   "pygments_lexer": "ipython3",
   "version": "3.11.5"
  }
 },
 "nbformat": 4,
 "nbformat_minor": 5
}
